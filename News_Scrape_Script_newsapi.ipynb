{
 "cells": [
  {
   "cell_type": "markdown",
   "metadata": {},
   "source": [
    "# Get mentions based on some keywords from several news channels and save in a csv file (NEWSAPI)\n",
    "Python Script by Femi Oyebamiji, Data Scientist and AI Leader. \n",
    "I am available for further help on the use of this script or integration into a full software solution and products on\n",
    "08160837781, oyebamijioluwafemi@yahoo.com"
   ]
  },
  {
   "cell_type": "code",
   "execution_count": 45,
   "metadata": {},
   "outputs": [],
   "source": [
    "import requests\n",
    "import os\n",
    "import pandas as pd\n",
    "from datetime import datetime\n",
    "\n",
    "\n",
    "NEWS_API_KEY = '' #newsapi key\n",
    "#https://newsapi.org/sources\n",
    "\n",
    "\n",
    "class NewsEngine:\n",
    "  def __init__(self, topic, NEWS_API_KEY, from_date, to_date, language):\n",
    "    self.topic = topic\n",
    "    self.NEWS_API_KEY = NEWS_API_KEY\n",
    "    self.from_date = from_date\n",
    "    self.to_date = to_date\n",
    "    self.language = language\n",
    "  def fetchNews(self):\n",
    "    url = \"https://newsapi.org/v2/everything?q=\" + self.topic + \"&apiKey=\" + self.NEWS_API_KEY  + \"&from=\" + self.from_date + \"&to=\" + self.to_date + \"&pageSize=100\" + \"&language=\" + self.language\n",
    "    r = requests.get(url=url)\n",
    "    data = r.json()  # extracting data in json format\n",
    "    ## data to be returned\n",
    "    data = data[\"articles\"]\n",
    "    return data"
   ]
  },
  {
   "cell_type": "code",
   "execution_count": 46,
   "metadata": {},
   "outputs": [],
   "source": [
    "def search_news(topic_news, from_date, to_date, language):\n",
    "    newsEngine = NewsEngine(topic=topic_news,\n",
    "                            NEWS_API_KEY=NEWS_API_KEY,\n",
    "                            from_date = from_date,\n",
    "                            to_date = to_date,\n",
    "                            language = language)\n",
    "    data = newsEngine.fetchNews()\n",
    "    Title = []\n",
    "    Description = []\n",
    "    url = []\n",
    "    for i in range(len(data)):\n",
    "        Title.append(data[i]['title'])\n",
    "        Description.append(data[i]['description'])\n",
    "        url.append(data[i]['url'])\n",
    "    data_table = pd.DataFrame({ 'Title': Title,\n",
    "                                'Description': Description,\n",
    "                                'URL': url})\n",
    "\n",
    "    # Obtain timestamp in a readable format\n",
    "    to_csv_timestamp = datetime.today().strftime('%Y%m%d_%H%M%S')\n",
    "    # Define working path and filename\n",
    "    path = os.getcwd()\n",
    "    if not os.path.exists('data'):\n",
    "        os.makedirs('data')\n",
    "    filename = path + '/data/' + to_csv_timestamp + 'NEWS_' + '.csv'\n",
    "    # Store dataframe in csv with creation date timestamp\n",
    "    data_table.to_csv(filename, index = False)"
   ]
  },
  {
   "cell_type": "markdown",
   "metadata": {},
   "source": [
    "# Only modify the fields below and run the script"
   ]
  },
  {
   "cell_type": "code",
   "execution_count": 47,
   "metadata": {},
   "outputs": [
    {
     "name": "stdout",
     "output_type": "stream",
     "text": [
      "Done\n"
     ]
    }
   ],
   "source": [
    "topic_news = \"covid19\"\n",
    "from_date = \"2020-12-04\"\n",
    "to_date = from_date\n",
    "language = \"en\"\n",
    "search_news(topic_news, from_date, to_date, language)\n",
    "print(\"Done\")"
   ]
  },
  {
   "cell_type": "markdown",
   "metadata": {},
   "source": [
    "# Documentation"
   ]
  },
  {
   "cell_type": "markdown",
   "metadata": {},
   "source": [
    "This script fetches mentions of inputed keywords from across over 50 news channels using the NewsAPI.\n",
    "The following steps are required for the running of this script:\n",
    "1. Supply your NewsAPI key -  This can be obtained on https://newsapi.org. The default used for testing this script is a personal key of Femi Oyebamiji. This script will be able to work with the free version of the NewsAPI key. However you can only access news published within the last one month with the free key.\n",
    "\n",
    "\n",
    "2. Modify only the last section of the code - \n",
    "    1. Topic News: The keywords to search which can be separated with comma, \n",
    "    2. from_date(The specific start date of the news you want to fetch, \n",
    "    3. to_date( the end date of what you want to fetch, \n",
    "    4. language: The language of the news to fetch. Default is English.\n",
    "    \n",
    "\n",
    "3. Run the script: Click on the last code section and press shift key + enter key at the same time on a jupyter notebook.\n",
    "\n",
    "\n",
    "The result is automatically outputted to an external excel/csv sheet in the data folder named current_timestamp + NEWS.csv\n",
    "\n",
    "This script can also be integrated into a software solution."
   ]
  },
  {
   "cell_type": "code",
   "execution_count": null,
   "metadata": {},
   "outputs": [],
   "source": []
  }
 ],
 "metadata": {
  "kernelspec": {
   "display_name": "Python 3",
   "language": "python",
   "name": "python3"
  },
  "language_info": {
   "codemirror_mode": {
    "name": "ipython",
    "version": 3
   },
   "file_extension": ".py",
   "mimetype": "text/x-python",
   "name": "python",
   "nbconvert_exporter": "python",
   "pygments_lexer": "ipython3",
   "version": "3.8.5"
  }
 },
 "nbformat": 4,
 "nbformat_minor": 4
}
