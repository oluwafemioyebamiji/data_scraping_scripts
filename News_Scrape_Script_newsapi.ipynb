{
 "cells": [
  {
   "cell_type": "markdown",
   "metadata": {},
   "source": [
    "# Get mentions based on some keywords from several news channels and save in a csv file (NEWSAPI)\n",
    "Python Script by Femi Oyebamiji, Data Scientist and AI Leader. \n",
    "I am available for further help on the use of this script or integration into a full software solution and products on\n",
    "08160837781, oyebamijioluwafemi@yahoo.com"
   ]
  },
  {
   "cell_type": "code",
   "execution_count": 4,
   "metadata": {},
   "outputs": [],
   "source": [
    "import requests\n",
    "import os\n",
    "import pandas as pd\n",
    "from datetime import datetime\n",
    "NEWS_API_KEY = '5926ef4cd6fd48388ae236bb4c50e2b7' #newsapi key\n",
    "class NewsEngine:\n",
    "  def __init__(self, topic, NEWS_API_KEY):\n",
    "    self.topic = topic\n",
    "    self.NEWS_API_KEY = NEWS_API_KEY\n",
    "  def fetchNews(self):\n",
    "    url = \"https://newsapi.org/v2/everything?q=\" + self.topic + \"&apiKey=\" + self.NEWS_API_KEY\n",
    "    r = requests.get(url=url)\n",
    "    data = r.json()  # extracting data in json format\n",
    "    ## data to be returned\n",
    "    data = data['articles']\n",
    "    return data"
   ]
  },
  {
   "cell_type": "code",
   "execution_count": 8,
   "metadata": {},
   "outputs": [],
   "source": [
    "def search_news(topic_news):\n",
    "    newsEngine = NewsEngine(topic=topic_news,\n",
    "                            NEWS_API_KEY=NEWS_API_KEY)\n",
    "    data = newsEngine.fetchNews()\n",
    "    Title = []\n",
    "    Description = []\n",
    "    url = []\n",
    "    for i in range(len(data)):\n",
    "        Title.append(data[i]['title'])\n",
    "        Description.append(data[i]['description'])\n",
    "        url.append(data[i]['url'])\n",
    "    data_table = pd.DataFrame({ 'Title': Title,\n",
    "                                'Description': Description,\n",
    "                                'URL': url})\n",
    "\n",
    "    # Obtain timestamp in a readable format\n",
    "    to_csv_timestamp = datetime.today().strftime('%Y%m%d_%H%M%S')\n",
    "    # Define working path and filename\n",
    "    path = os.getcwd()\n",
    "    if not os.path.exists('data'):\n",
    "        os.makedirs('data')\n",
    "    filename = path + '/data/' + 'NEWSv2_' + to_csv_timestamp + '.csv'\n",
    "    # Store dataframe in csv with creation date timestamp\n",
    "    data_table.to_csv(filename, index = False)"
   ]
  },
  {
   "cell_type": "markdown",
   "metadata": {},
   "source": [
    "# Only modify the fields below and run the script"
   ]
  },
  {
   "cell_type": "code",
   "execution_count": 10,
   "metadata": {},
   "outputs": [
    {
     "name": "stdout",
     "output_type": "stream",
     "text": [
      "Done\n"
     ]
    }
   ],
   "source": [
    "topic_news = \"endsars\"\n",
    "search_news(topic_news)\n",
    "print(\"Done\")"
   ]
  },
  {
   "cell_type": "code",
   "execution_count": null,
   "metadata": {},
   "outputs": [],
   "source": []
  }
 ],
 "metadata": {
  "kernelspec": {
   "display_name": "Python 3",
   "language": "python",
   "name": "python3"
  },
  "language_info": {
   "codemirror_mode": {
    "name": "ipython",
    "version": 3
   },
   "file_extension": ".py",
   "mimetype": "text/x-python",
   "name": "python",
   "nbconvert_exporter": "python",
   "pygments_lexer": "ipython3",
   "version": "3.8.5"
  }
 },
 "nbformat": 4,
 "nbformat_minor": 4
}
